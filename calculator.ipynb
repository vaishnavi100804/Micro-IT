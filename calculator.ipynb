{
 "cells": [
  {
   "cell_type": "code",
   "execution_count": 1,
   "id": "27cf63ae-dbf0-4c68-afa1-484d56bf49f3",
   "metadata": {},
   "outputs": [],
   "source": [
    "import tkinter as tk\n",
    "\n",
    "def on_button_click(event):\n",
    "    text = event.widget.cget(\"text\")\n",
    "    if text == \"=\":\n",
    "        try:\n",
    "            result = eval(entry.get())\n",
    "            entry.delete(0, tk.END)\n",
    "            entry.insert(tk.END, str(result))\n",
    "        except Exception as e:\n",
    "            entry.delete(0, tk.END)\n",
    "            entry.insert(tk.END, \"Error\")\n",
    "    elif text == \"C\":\n",
    "        entry.delete(0, tk.END)\n",
    "    else:\n",
    "        entry.insert(tk.END, text)\n",
    "\n",
    "root = tk.Tk()\n",
    "root.title(\"Simple Calculator\")\n",
    "\n",
    "entry = tk.Entry(root, font=(\"Helvetica\", 16))\n",
    "entry.pack(fill=tk.BOTH, expand=True)\n",
    "\n",
    "button_frame = tk.Frame(root)\n",
    "button_frame.pack()\n",
    "\n",
    "buttons = [\n",
    "    \"7\", \"8\", \"9\", \"/\",\n",
    "    \"4\", \"5\", \"6\", \"*\",\n",
    "    \"1\", \"2\", \"3\", \"-\",\n",
    "    \"C\", \"0\", \"=\", \"+\",\n",
    "]\n",
    "\n",
    "row = 1\n",
    "col = 0\n",
    "for button_text in buttons:\n",
    "    button = tk.Button(button_frame, text=button_text, font=(\"Helvetica\", 16), padx=20, pady=20)\n",
    "    button.grid(row=row, column=col)\n",
    "    col += 1\n",
    "    if col > 3:\n",
    "        col = 0\n",
    "        row += 1\n",
    "\n",
    "    button.bind(\"<Button-1>\", on_button_click)\n",
    "\n",
    "root.mainloop()"
   ]
  },
  {
   "cell_type": "code",
   "execution_count": null,
   "id": "de61d7d3-c782-490c-a4c5-cf90917fb7f8",
   "metadata": {},
   "outputs": [],
   "source": []
  }
 ],
 "metadata": {
  "kernelspec": {
   "display_name": "Python 3 (ipykernel)",
   "language": "python",
   "name": "python3"
  },
  "language_info": {
   "codemirror_mode": {
    "name": "ipython",
    "version": 3
   },
   "file_extension": ".py",
   "mimetype": "text/x-python",
   "name": "python",
   "nbconvert_exporter": "python",
   "pygments_lexer": "ipython3",
   "version": "3.12.7"
  }
 },
 "nbformat": 4,
 "nbformat_minor": 5
}
